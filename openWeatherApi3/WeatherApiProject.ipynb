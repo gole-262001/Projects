{
 "cells": [
  {
   "cell_type": "code",
   "execution_count": 121,
   "id": "fd984dc7",
   "metadata": {},
   "outputs": [],
   "source": [
    "import requests\n",
    "import json\n",
    "from pyspark.sql import SparkSession\n",
    "import csv"
   ]
  },
  {
   "cell_type": "code",
   "execution_count": 122,
   "id": "2ec52481",
   "metadata": {},
   "outputs": [],
   "source": [
    "spark = SparkSession.builder.master(\"local[1]\").appName(\"weatherApi\").getOrCreate()"
   ]
  },
  {
   "cell_type": "code",
   "execution_count": 123,
   "id": "6143cc89",
   "metadata": {},
   "outputs": [],
   "source": [
    "cities = [\"Mumbai\", \"Delhi\", \"Bangalore\", \"Hyderabad\", \"Ahmedabad\", \"Chennai\", \"Kolkata\", \"Surat\", \"Pune\", \"Jaipur\", \"Lucknow\", \"Kanpur\", \"Nagpur\", \"Indore\", \"Thane\", \"Bhopal\", \"Visakhapatnam\", \"Pimpri-Chinchwad\", \"Patna\", \"Vadodara\", \"Ghaziabad\", \"Ludhiana\", \"Agra\", \"Nashik\", \"Faridabad\", \"Meerut\", \"Rajkot\", \"Varanasi\", \"Srinagar\", \"Aurangabad\", \"Dhanbad\"]\n"
   ]
  },
  {
   "cell_type": "code",
   "execution_count": 125,
   "id": "740f3a88",
   "metadata": {},
   "outputs": [],
   "source": [
    "with open('weatherData.csv', 'w',encoding=\"utf-8\", newline='') as csv_file:\n",
    "    writer = csv.writer(csv_file)\n",
    "    writer.writerow(['city_id', 'city_name', 'sys_country', 'clouds_all', 'main_temp', 'wind_speed', 'weather_main', 'visibility', 'coord_lat', 'coord_lon'])\n",
    "    for city in cities:\n",
    "        api_url = \"https://api.openweathermap.org/data/2.5/weather?q=\" +city+ \"&appid=62e7d08aa05f3db830cd25e5208ea949\"\n",
    "        response = requests.get(api_url)\n",
    "        data = response.json()\n",
    "        coord_lon = data['coord']['lon']\n",
    "        coord_lat = data['coord']['lat']\n",
    "        weather_main = data['weather'][0]['main']\n",
    "        main_temp = data['main']['temp']\n",
    "        visibility = data['visibility']\n",
    "        wind_speed = data['wind']['speed']\n",
    "        clouds_all = data['clouds']['all']\n",
    "        sys_country = data['sys']['country']\n",
    "        city_id = data['id']\n",
    "        city_name = data['name']\n",
    "        row = [city_id , city_name, sys_country, clouds_all, main_temp, wind_speed, weather_main, visibility, coord_lat,coord_lon]\n",
    "        writer.writerow(row)\n",
    "   "
   ]
  },
  {
   "cell_type": "code",
   "execution_count": null,
   "id": "78c662bd",
   "metadata": {},
   "outputs": [],
   "source": []
  },
  {
   "cell_type": "code",
   "execution_count": null,
   "id": "b4d528c6",
   "metadata": {},
   "outputs": [],
   "source": []
  }
 ],
 "metadata": {
  "kernelspec": {
   "display_name": "Python 3 (ipykernel)",
   "language": "python",
   "name": "python3"
  },
  "language_info": {
   "codemirror_mode": {
    "name": "ipython",
    "version": 3
   },
   "file_extension": ".py",
   "mimetype": "text/x-python",
   "name": "python",
   "nbconvert_exporter": "python",
   "pygments_lexer": "ipython3",
   "version": "3.11.1"
  }
 },
 "nbformat": 4,
 "nbformat_minor": 5
}
